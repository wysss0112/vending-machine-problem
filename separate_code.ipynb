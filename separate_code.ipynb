{
 "cells": [
  {
   "cell_type": "code",
   "execution_count": 1,
   "metadata": {},
   "outputs": [],
   "source": [
    "import json\n",
    "\n",
    "#read beverage.json\n",
    "with open(\"beverages.json\",\"r\") as file:\n",
    "    data=json.load(file)"
   ]
  },
  {
   "cell_type": "code",
   "execution_count": 2,
   "metadata": {},
   "outputs": [],
   "source": [
    "accepted_bill=[1,5,10,20,50,100]\n",
    "accepted_bill.sort(reverse=True)\n",
    "\n",
    "money_return={\"100\":0,\n",
    "              \"50\":0,\n",
    "              \"20\":0,\n",
    "              \"10\":0,\n",
    "              \"5\":0,\n",
    "              \"1\":0}\n",
    "#print(accepted_bill)"
   ]
  },
  {
   "cell_type": "code",
   "execution_count": 3,
   "metadata": {},
   "outputs": [],
   "source": [
    "def printTitle():\n",
    "    print(\"=========================================\")\n",
    "    print(\"           VENDING MACHINE MENU          \")\n",
    "    print(\"=========================================\")"
   ]
  },
  {
   "cell_type": "code",
   "execution_count": 4,
   "metadata": {},
   "outputs": [],
   "source": [
    "def printMenu():\n",
    "    for item in data['beverages']:\n",
    "        print(f\"ID: {item['id']}\")\n",
    "        print(f\"Name: {item['name']}\")\n",
    "        print(f\"Price: {item['price']}\")\n",
    "        print(f\"Stock: {item['stock']}\")\n",
    "        print()"
   ]
  },
  {
   "cell_type": "code",
   "execution_count": 5,
   "metadata": {},
   "outputs": [],
   "source": [
    "def find_by_id(ind):\n",
    "    for item in data['beverages']:\n",
    "        if item['id']==ind:\n",
    "            return item\n",
    "    return None\n",
    "\n",
    "def get_user_selection():\n",
    "    while True:\n",
    "        try:\n",
    "            ind=int(input(\"\\nEnter Beverage ID: \"))\n",
    "            selected_drink=find_by_id(ind)\n",
    "            if selected_drink:\n",
    "                if selected_drink['stock']<=0:\n",
    "                    print(f\"{selected_drink['name']} is out of stock. Please try again\")\n",
    "                else:\n",
    "                    return selected_drink['id'],selected_drink['name'],selected_drink['price']\n",
    "            else:\n",
    "                print(\"ID not found. Please try again.\")\n",
    "        except ValueError:\n",
    "            print(\"Please enter a numerical number.\")\n"
   ]
  },
  {
   "cell_type": "code",
   "execution_count": 6,
   "metadata": {},
   "outputs": [],
   "source": [
    "# id,name,price=get_user_selection()\n",
    "# print(f\"{id} for {name} and RM {price}\")"
   ]
  },
  {
   "cell_type": "code",
   "execution_count": 7,
   "metadata": {},
   "outputs": [],
   "source": [
    "def get_user_bill():\n",
    "    user_balance=0\n",
    "    while True:\n",
    "        user_input=int(input(\"\\nPlease insert bill: \"))\n",
    "        if user_input not in accepted_bill:\n",
    "            print(\"Please insert the correct amount of bill.\")\n",
    "        else:\n",
    "            user_balance=user_balance+user_input\n",
    "            while True:\n",
    "                cont=input(\"Do you wish to insert more bill? (Enter Y to continue): \")\n",
    "                if cont.lower()=='y':\n",
    "                    break\n",
    "                else:\n",
    "                    return user_balance"
   ]
  },
  {
   "cell_type": "code",
   "execution_count": 8,
   "metadata": {},
   "outputs": [],
   "source": [
    "#print(f\"Your balance is RM {get_user_bill()}\")"
   ]
  },
  {
   "cell_type": "code",
   "execution_count": 9,
   "metadata": {},
   "outputs": [],
   "source": [
    "# balance=get_user_bill()"
   ]
  },
  {
   "cell_type": "code",
   "execution_count": 10,
   "metadata": {},
   "outputs": [],
   "source": [
    "def get_user_order(balance):\n",
    "    order_items=[]\n",
    "    print(\"\\n=========================================\")\n",
    "    print(f\"Your balance is RM {balance}\")\n",
    "    while True:\n",
    "        b_id,b_name,b_price=get_user_selection()\n",
    "        if balance<b_price:\n",
    "               print(\"You don't have enough balance.\")\n",
    "        else:\n",
    "            balance=balance-b_price\n",
    "            order_items.append((b_id,b_name,b_price))\n",
    "        print(f\"Your current balance is {balance}\")\n",
    "        if balance<=0:\n",
    "              print(\"You will be proceed to the next step.\")\n",
    "              return order_items, balance\n",
    "        else:\n",
    "            cont=input(f\"Do you wish to continue? (Enter Y to continue): \")\n",
    "            if cont.lower()!='y':\n",
    "                return order_items,balance"
   ]
  },
  {
   "cell_type": "code",
   "execution_count": 11,
   "metadata": {},
   "outputs": [],
   "source": [
    "#order_item,balance=get_user_order(balance)"
   ]
  },
  {
   "cell_type": "code",
   "execution_count": 12,
   "metadata": {},
   "outputs": [],
   "source": [
    "# print(order_item)\n",
    "# print(balance)"
   ]
  },
  {
   "cell_type": "code",
   "execution_count": 13,
   "metadata": {},
   "outputs": [],
   "source": [
    "def print_receipt(order_items,balance):\n",
    "    print(\"\\nHere is your receipt.\")\n",
    "    print(\"=========================================\")\n",
    "    total=0\n",
    "    ori_balance=balance\n",
    "\n",
    "    for item in order_items:\n",
    "        print(f\"ID: {item[0]}, Name: {item[1]}, Price: RM {item[2]}\")\n",
    "        total=total+item[2]\n",
    "        \n",
    "    for i in accepted_bill:\n",
    "        while balance>=i:\n",
    "            balance=balance-i\n",
    "            money_return[str(i)]=money_return[str(i)]+1\n",
    "\n",
    "    print(f\"\\nTotal is RM {total}.\")\n",
    "    print(\"=========================================\\n\")\n",
    "\n",
    "    if ori_balance>0:\n",
    "        print(\"The machine will return: \")\n",
    "        for key, quantity in money_return.items():\n",
    "            if quantity>0:\n",
    "                print(f\"{quantity} piece(s) of RM {key}\")\n",
    "\n",
    "    print(\"\\nEnjoy your drink!\")"
   ]
  },
  {
   "cell_type": "code",
   "execution_count": 14,
   "metadata": {},
   "outputs": [],
   "source": [
    "# balance=95"
   ]
  },
  {
   "cell_type": "code",
   "execution_count": 15,
   "metadata": {},
   "outputs": [],
   "source": [
    "# money_return={\"100\":0,\n",
    "#               \"50\":0,\n",
    "#               \"20\":0,\n",
    "#               \"10\":0,\n",
    "#               \"5\":0,\n",
    "#               \"1\":0}\n",
    "\n",
    "# for i in accepted_bill:\n",
    "#     print(i)\n",
    "#     print(f\"RM{balance}\")\n",
    "#     while balance>=i:\n",
    "#         print(f\"{balance} larger than {i}\")\n",
    "#         balance=balance-i\n",
    "#         money_return[str(i)]=money_return[str(i)]+1"
   ]
  },
  {
   "cell_type": "code",
   "execution_count": 16,
   "metadata": {},
   "outputs": [],
   "source": [
    "# print(money_return)"
   ]
  },
  {
   "cell_type": "code",
   "execution_count": 17,
   "metadata": {},
   "outputs": [],
   "source": [
    "def main():\n",
    "    printTitle()\n",
    "    printMenu()\n",
    "    balance=get_user_bill()\n",
    "    order_items,balance=get_user_order(balance)\n",
    "    print_receipt(order_items,balance)"
   ]
  },
  {
   "cell_type": "code",
   "execution_count": 18,
   "metadata": {},
   "outputs": [
    {
     "name": "stdout",
     "output_type": "stream",
     "text": [
      "=========================================\n",
      "           VENDING MACHINE MENU          \n",
      "=========================================\n",
      "ID: 0\n",
      "Name: Nescafe\n",
      "Price: 4\n",
      "Stock: 20\n",
      "\n",
      "ID: 1\n",
      "Name: Milo\n",
      "Price: 4\n",
      "Stock: 20\n",
      "\n",
      "ID: 2\n",
      "Name: 100 Plus\n",
      "Price: 3\n",
      "Stock: 20\n",
      "\n",
      "ID: 3\n",
      "Name: Coca-cola\n",
      "Price: 3\n",
      "Stock: 0\n",
      "\n",
      "ID: 4\n",
      "Name: Pepsi\n",
      "Price: 3\n",
      "Stock: 20\n",
      "\n",
      "ID: 5\n",
      "Name: Lipton Ice Tea\n",
      "Price: 3\n",
      "Stock: 20\n",
      "\n",
      "ID: 6\n",
      "Name: Fanta Orange\n",
      "Price: 3\n",
      "Stock: 0\n",
      "\n",
      "ID: 7\n",
      "Name: A&W Root Beer\n",
      "Price: 3\n",
      "Stock: 20\n",
      "\n",
      "ID: 8\n",
      "Name: Kickapoo\n",
      "Price: 3\n",
      "Stock: 20\n",
      "\n",
      "ID: 9\n",
      "Name: Mineral Water\n",
      "Price: 1\n",
      "Stock: 15\n",
      "\n",
      "\n",
      "=========================================\n",
      "Your balance is RM 100\n",
      "Your current balance is 96\n",
      "Your current balance is 95\n",
      "\n",
      "Here is your receipt.\n",
      "=========================================\n",
      "ID: 1, Name: Milo, Price: RM 4\n",
      "ID: 9, Name: Mineral Water, Price: RM 1\n",
      "\n",
      "Total is RM 5.\n",
      "=========================================\n",
      "\n",
      "The machine will return: \n",
      "1 piece(s) of RM 50\n",
      "2 piece(s) of RM 20\n",
      "1 piece(s) of RM 5\n",
      "\n",
      "Enjoy your drink!\n"
     ]
    }
   ],
   "source": [
    "main()"
   ]
  },
  {
   "cell_type": "code",
   "execution_count": null,
   "metadata": {},
   "outputs": [],
   "source": []
  }
 ],
 "metadata": {
  "kernelspec": {
   "display_name": "Python 3",
   "language": "python",
   "name": "python3"
  },
  "language_info": {
   "codemirror_mode": {
    "name": "ipython",
    "version": 3
   },
   "file_extension": ".py",
   "mimetype": "text/x-python",
   "name": "python",
   "nbconvert_exporter": "python",
   "pygments_lexer": "ipython3",
   "version": "3.9.13"
  }
 },
 "nbformat": 4,
 "nbformat_minor": 2
}
